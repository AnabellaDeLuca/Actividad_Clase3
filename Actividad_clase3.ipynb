{
 "cells": [
  {
   "cell_type": "markdown",
   "metadata": {},
   "source": [
    "# Actividad clase 3"
   ]
  },
  {
   "cell_type": "markdown",
   "metadata": {},
   "source": [
    "## Probando titulos y subtitulos con jupyter"
   ]
  },
  {
   "cell_type": "markdown",
   "metadata": {},
   "source": [
    "### Uno mas chiquito para apreciar la preciosura de organizacón de jupyter"
   ]
  },
  {
   "cell_type": "markdown",
   "metadata": {},
   "source": [
    "##### Ultimo jeje"
   ]
  },
  {
   "cell_type": "markdown",
   "metadata": {},
   "source": [
    "# Ejercicios datos complejos"
   ]
  },
  {
   "cell_type": "markdown",
   "metadata": {},
   "source": [
    "## 1. Datos simples"
   ]
  },
  {
   "cell_type": "markdown",
   "metadata": {},
   "source": [
    "### Nombre de ciudades"
   ]
  },
  {
   "cell_type": "code",
   "execution_count": 29,
   "metadata": {},
   "outputs": [
    {
     "name": "stdout",
     "output_type": "stream",
     "text": [
      "['Ushuaia', 'Rio Gallegos', 'La plata']\n"
     ]
    }
   ],
   "source": [
    "Lista=[\"Ushuaia\",\"Rio Gallegos\",\"La plata\"]\n",
    "print(Lista)"
   ]
  },
  {
   "cell_type": "markdown",
   "metadata": {},
   "source": [
    "### Información de empleados"
   ]
  },
  {
   "cell_type": "code",
   "execution_count": 30,
   "metadata": {},
   "outputs": [
    {
     "name": "stdout",
     "output_type": "stream",
     "text": [
      "{'nombre': 'Alan', 'cargo': 'Jefe de obra', 'Salario': 'USD 3000'}\n"
     ]
    }
   ],
   "source": [
    "Diccionario={\"nombre\": \"Alan\",\"cargo\": \"Jefe de obra\",\"Salario\": \"USD 3000\"}\n",
    "print(Diccionario)"
   ]
  },
  {
   "cell_type": "markdown",
   "metadata": {},
   "source": [
    "### Mostrar cómo acceder a un elemento específico en una lista y en un diccionario."
   ]
  },
  {
   "cell_type": "markdown",
   "metadata": {},
   "source": [
    "##### En diccionario:"
   ]
  },
  {
   "cell_type": "code",
   "execution_count": 31,
   "metadata": {},
   "outputs": [
    {
     "name": "stdout",
     "output_type": "stream",
     "text": [
      "El nombre del empleado es Alan\n"
     ]
    }
   ],
   "source": [
    "print(\"El nombre del empleado es\",Diccionario.get(\"nombre\"))"
   ]
  },
  {
   "cell_type": "markdown",
   "metadata": {},
   "source": [
    "##### En lista: "
   ]
  },
  {
   "cell_type": "code",
   "execution_count": 32,
   "metadata": {},
   "outputs": [
    {
     "name": "stdout",
     "output_type": "stream",
     "text": [
      "La capital de Tierra del Fuego es Ushuaia\n"
     ]
    }
   ],
   "source": [
    "print(\"La capital de Tierra del Fuego es\", Lista[0])"
   ]
  },
  {
   "cell_type": "markdown",
   "metadata": {},
   "source": [
    "## 2. Manipulación de Listas y Métodos:"
   ]
  },
  {
   "cell_type": "markdown",
   "metadata": {},
   "source": [
    "### Crea una lista inicial de números enteros"
   ]
  },
  {
   "cell_type": "code",
   "execution_count": 33,
   "metadata": {},
   "outputs": [
    {
     "name": "stdout",
     "output_type": "stream",
     "text": [
      "[1, 2, 3, 4, 5, 6, 7, 8, 9, 10]\n"
     ]
    }
   ],
   "source": [
    "Lista_numeros=[1,2,3,4,5,6,7,8,9,10]\n",
    "print(Lista_numeros)"
   ]
  },
  {
   "cell_type": "markdown",
   "metadata": {},
   "source": [
    "### Utiliza el método .append() para agregar un número al final de la lista."
   ]
  },
  {
   "cell_type": "code",
   "execution_count": 34,
   "metadata": {},
   "outputs": [
    {
     "name": "stdout",
     "output_type": "stream",
     "text": [
      "[1, 2, 3, 4, 5, 6, 7, 8, 9, 10, 11]\n"
     ]
    }
   ],
   "source": [
    "Lista_numeros.append(11)\n",
    "print(Lista_numeros)"
   ]
  },
  {
   "cell_type": "markdown",
   "metadata": {},
   "source": [
    "### Utiliza el método .extend() para agregar múltiples elementos a la lista."
   ]
  },
  {
   "cell_type": "code",
   "execution_count": 35,
   "metadata": {},
   "outputs": [
    {
     "name": "stdout",
     "output_type": "stream",
     "text": [
      "[1, 2, 3, 4, 5, 6, 7, 8, 9, 10, 11, 13, 14, 15]\n"
     ]
    }
   ],
   "source": [
    "numeros_adicionales=[13,14,15]\n",
    "Lista_numeros.extend(numeros_adicionales)\n",
    "print(Lista_numeros)"
   ]
  },
  {
   "cell_type": "markdown",
   "metadata": {},
   "source": [
    "### Utiliza el método .insert() para insertar un número en una posición específica de la lista."
   ]
  },
  {
   "cell_type": "code",
   "execution_count": 36,
   "metadata": {},
   "outputs": [
    {
     "name": "stdout",
     "output_type": "stream",
     "text": [
      "[1, 2, 3, 4, 5, 6, 7, 8, 9, 10, 11, 12, 13, 14, 15]\n"
     ]
    }
   ],
   "source": [
    "Lista_numeros.insert(11,12)\n",
    "print(Lista_numeros)"
   ]
  },
  {
   "cell_type": "markdown",
   "metadata": {},
   "source": [
    "### Muestra cómo utilizar el método .sort() para ordenar la lista de números de forma ascendente."
   ]
  },
  {
   "cell_type": "markdown",
   "metadata": {},
   "source": [
    "##### PD: Profe usare sort reverse ya que mi lista por toc ya estaba ordenada de forma ascendente jejej"
   ]
  },
  {
   "cell_type": "code",
   "execution_count": 37,
   "metadata": {},
   "outputs": [
    {
     "name": "stdout",
     "output_type": "stream",
     "text": [
      "[15, 14, 13, 12, 11, 10, 9, 8, 7, 6, 5, 4, 3, 2, 1]\n"
     ]
    }
   ],
   "source": [
    "\n",
    "Lista_numeros.sort(reverse=True)\n",
    "print(Lista_numeros)"
   ]
  },
  {
   "cell_type": "markdown",
   "metadata": {},
   "source": [
    "## 3. Manipulación de Diccionarios y Métodos:"
   ]
  },
  {
   "cell_type": "markdown",
   "metadata": {},
   "source": [
    "#### Crea un diccionario con información de productos (nombre del producto, precio, cantidad en stock)."
   ]
  },
  {
   "cell_type": "code",
   "execution_count": 38,
   "metadata": {},
   "outputs": [
    {
     "name": "stdout",
     "output_type": "stream",
     "text": [
      "{'producto1': {'nombre': 'Shampoo', 'precio': '2000', 'cantidad': '14 unidades'}, 'producto2': {'nombre': 'Crema de enjuague', 'precio': '1500', 'cantidad': '6 unidades'}}\n"
     ]
    }
   ],
   "source": [
    "productos = {\n",
    "    'producto1': {\n",
    "        'nombre': \"Shampoo\",\n",
    "        'precio': \"2000\",\n",
    "        'cantidad': \"14 unidades\"\n",
    "    },\n",
    "    'producto2': {\n",
    "        'nombre': \"Crema de enjuague\",\n",
    "        'precio': \"1500\",\n",
    "        'cantidad': \"6 unidades\"\n",
    "    }\n",
    "}\n",
    "print(productos)"
   ]
  },
  {
   "cell_type": "markdown",
   "metadata": {},
   "source": [
    "### Utiliza el método .keys() para obtener una lista de las llaves (nombres de productos) en el diccionario."
   ]
  },
  {
   "cell_type": "code",
   "execution_count": 39,
   "metadata": {},
   "outputs": [
    {
     "name": "stdout",
     "output_type": "stream",
     "text": [
      "dict_keys(['producto1', 'producto2'])\n"
     ]
    }
   ],
   "source": [
    "nombres_productos =(productos.keys())\n",
    "print(nombres_productos)\n"
   ]
  },
  {
   "cell_type": "markdown",
   "metadata": {},
   "source": [
    "### Utiliza el método .values() para obtener una lista de los valores (precios y cantidades) en el diccionario."
   ]
  },
  {
   "cell_type": "code",
   "execution_count": 40,
   "metadata": {},
   "outputs": [
    {
     "name": "stdout",
     "output_type": "stream",
     "text": [
      "el precio de los productos es ['2000', '1500'] la cantidad disponible es de ['14 unidades', '6 unidades']\n"
     ]
    }
   ],
   "source": [
    "valores_precios = [producto.get('precio') for producto in productos.values()]\n",
    "valores_cantidades = [producto.get('cantidad') for producto in productos.values()]\n",
    "print(\"el precio de los productos es\",valores_precios,\"la cantidad disponible es de\", valores_cantidades)"
   ]
  },
  {
   "cell_type": "markdown",
   "metadata": {},
   "source": [
    "### Utiliza el método .items() para obtener una lista de tuplas con pares clave-valor del diccionario."
   ]
  },
  {
   "cell_type": "code",
   "execution_count": 41,
   "metadata": {},
   "outputs": [
    {
     "name": "stdout",
     "output_type": "stream",
     "text": [
      "[('producto1', {'nombre': 'Shampoo', 'precio': '2000', 'cantidad': '14 unidades'}), ('producto2', {'nombre': 'Crema de enjuague', 'precio': '1500', 'cantidad': '6 unidades'})]\n"
     ]
    }
   ],
   "source": [
    "lista_tuplas = list(productos.items())\n",
    "print(lista_tuplas)"
   ]
  },
  {
   "cell_type": "markdown",
   "metadata": {},
   "source": [
    "### Muestra cómo utilizar el método .get() para obtener el precio de un producto específico del diccionario."
   ]
  },
  {
   "cell_type": "code",
   "execution_count": 42,
   "metadata": {},
   "outputs": [
    {
     "name": "stdout",
     "output_type": "stream",
     "text": [
      "El precio de producto1 es: 2000\n"
     ]
    }
   ],
   "source": [
    "nombre_producto1= 'producto1'\n",
    "nombre_producto2= \"producto2\"\n",
    "precio_producto = productos.get(nombre_producto1,{}).get('precio')\n",
    "if precio_producto is not None:\n",
    "    print(f\"El precio de {nombre_producto1} es: {precio_producto}\")\n",
    "elif precio_producto is not None:\n",
    "    print(f\"El precio de {nombre_producto2} es: {precio_producto}\")\n",
    "else:\n",
    "    print(f\"No se encontró información del precio para {nombre_producto1}\")"
   ]
  },
  {
   "cell_type": "markdown",
   "metadata": {},
   "source": [
    "## Datos Complejos:"
   ]
  },
  {
   "cell_type": "markdown",
   "metadata": {},
   "source": [
    "### Crear una lista de diccionarios que represente información de libros (título, autor, año de publicación)."
   ]
  },
  {
   "cell_type": "code",
   "execution_count": 43,
   "metadata": {},
   "outputs": [
    {
     "name": "stdout",
     "output_type": "stream",
     "text": [
      "{'Rayuela': {'autor': 'Julio Cortázar', 'año_publicacion': 1963}, 'El túnel': {'autor': 'Ernesto Sabato', 'año_publicacion': 1948}, 'Martín Fierro': {'autor': 'José Hernández', 'año_publicacion': 1872}}\n"
     ]
    }
   ],
   "source": [
    "libros_argentinos = {\n",
    "    'Rayuela': {\n",
    "        'autor': 'Julio Cortázar',\n",
    "        'año_publicacion': 1963\n",
    "    },\n",
    "    'El túnel': {\n",
    "        'autor': 'Ernesto Sabato',\n",
    "        'año_publicacion': 1948\n",
    "    },\n",
    "    'Martín Fierro': {\n",
    "        'autor': 'José Hernández',\n",
    "        'año_publicacion': 1872\n",
    "    }\n",
    "}\n",
    "print(libros_argentinos)"
   ]
  },
  {
   "cell_type": "markdown",
   "metadata": {},
   "source": [
    "### Crear un diccionario que contenga listas como valores (por ejemplo, un diccionario de estudiantes y sus materias)"
   ]
  },
  {
   "cell_type": "code",
   "execution_count": 44,
   "metadata": {},
   "outputs": [
    {
     "name": "stdout",
     "output_type": "stream",
     "text": [
      "{'Jose': ['Matemática', 'Física', 'Química'], 'Anabella': ['Programacion', 'Ciencia de datos', 'Practicas profecionalizantes'], 'Axel': ['Tecnología de la Información y de la comunicación', 'Dibujo tencinco', 'Plastica']}\n"
     ]
    }
   ],
   "source": [
    "diccionario_estudiantes = {\n",
    "    'Jose': ['Matemática', 'Física', 'Química'],\n",
    "    'Anabella': ['Programacion', 'Ciencia de datos', 'Practicas profecionalizantes'],\n",
    "    'Axel': ['Tecnología de la Información y de la comunicación', 'Dibujo tencinco', 'Plastica']\n",
    "}\n",
    "print(diccionario_estudiantes)"
   ]
  },
  {
   "cell_type": "markdown",
   "metadata": {},
   "source": [
    "### Mostrar cómo modificar un valor en una lista dentro de un diccionario y viceversa."
   ]
  },
  {
   "cell_type": "code",
   "execution_count": 45,
   "metadata": {},
   "outputs": [
    {
     "name": "stdout",
     "output_type": "stream",
     "text": [
      "{'Jose': ['Matemática', 'Física', 'Química'], 'Anabella': ['Programacion', 'Ciencia de datos', 'Practicas profecionalizantes', 'Probabilidad y estadistica'], 'Axel': ['Tecnología de la Información y de la comunicación', 'Dibujo tencinco', 'Plastica']}\n",
      "[{'nombre': 'Shampoo', 'precio': 2000}, {'nombre': 'Crema de enjuague', 'precio': 2500}]\n"
     ]
    }
   ],
   "source": [
    "\n",
    "estudiante = 'Anabella'\n",
    "nueva_lista_materias = ['Programacion', 'Ciencia de datos', 'Practicas profecionalizantes','Probabilidad y estadistica']\n",
    "\n",
    "diccionario_estudiantes[estudiante] = nueva_lista_materias\n",
    "print(diccionario_estudiantes)\n",
    "\n",
    "# Lista de diccionarios de productos\n",
    "lista_productos = [\n",
    "    {'nombre': 'Shampoo', 'precio': 2000},\n",
    "    {'nombre': 'Crema de enjuague', 'precio': 1500},]\n",
    "\n",
    "indice_producto = 1 \n",
    "nuevo_precio = 2500\n",
    "\n",
    "lista_productos[indice_producto]['precio'] = nuevo_precio\n",
    "print(lista_productos)"
   ]
  }
 ],
 "metadata": {
  "kernelspec": {
   "display_name": "Python 3",
   "language": "python",
   "name": "python3"
  },
  "language_info": {
   "codemirror_mode": {
    "name": "ipython",
    "version": 3
   },
   "file_extension": ".py",
   "mimetype": "text/x-python",
   "name": "python",
   "nbconvert_exporter": "python",
   "pygments_lexer": "ipython3",
   "version": "3.11.9"
  }
 },
 "nbformat": 4,
 "nbformat_minor": 2
}
