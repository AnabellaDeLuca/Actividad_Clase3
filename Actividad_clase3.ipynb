{
 "cells": [
  {
   "cell_type": "markdown",
   "metadata": {},
   "source": [
    "# Actividad clase 3"
   ]
  },
  {
   "cell_type": "markdown",
   "metadata": {},
   "source": [
    "## Probando titulos y subtitulos con jupyter"
   ]
  },
  {
   "cell_type": "markdown",
   "metadata": {},
   "source": [
    "### Uno mas chiquito para apreciar la preciosura de organizacón de jupyter"
   ]
  },
  {
   "cell_type": "markdown",
   "metadata": {},
   "source": [
    "##### Ultimo jeje"
   ]
  },
  {
   "cell_type": "markdown",
   "metadata": {},
   "source": [
    "Datos Simples:\n",
    "\n",
    "Crear una lista de nombres de ciudades.\n",
    "Crear un diccionario con información de empleados (nombre, cargo, salario).\n",
    "Mostrar cómo acceder a un elemento específico en una lista y en un diccionario.\n",
    "Manipulación de Listas y Métodos:\n",
    "\n",
    "Crea una lista inicial de números enteros.\n",
    "Utiliza el método .append() para agregar un número al final de la lista.\n",
    "Utiliza el método .extend() para agregar múltiples elementos a la lista.\n",
    "Utiliza el método .insert() para insertar un número en una posición específica de la lista.\n",
    "Muestra cómo utilizar el método .sort() para ordenar la lista de números de forma ascendente.\n",
    "Manipulación de Diccionarios y Métodos:\n",
    "\n",
    "Crea un diccionario con información de productos (nombre del producto, precio, cantidad en stock).\n",
    "Utiliza el método .keys() para obtener una lista de las llaves (nombres de productos) en el diccionario.\n",
    "Utiliza el método .values() para obtener una lista de los valores (precios y cantidades) en el diccionario.\n",
    "Utiliza el método .items() para obtener una lista de tuplas con pares clave-valor del diccionario.\n",
    "Muestra cómo utilizar el método .get() para obtener el precio de un producto específico del diccionario.\n",
    "\n",
    "Datos Complejos:\n",
    "\n",
    "Crear una lista de diccionarios que represente información de libros (título, autor, año de publicación).\n",
    "Crear un diccionario que contenga listas como valores (por ejemplo, un diccionario de estudiantes y sus materias).\n",
    "Mostrar cómo modificar un valor en una lista dentro de un diccionario y viceversa."
   ]
  },
  {
   "cell_type": "markdown",
   "metadata": {},
   "source": [
    "# Ejercicios datos complejos"
   ]
  },
  {
   "cell_type": "markdown",
   "metadata": {},
   "source": [
    "## 1. Datos simples"
   ]
  },
  {
   "cell_type": "markdown",
   "metadata": {},
   "source": [
    "### Nombre de ciudades"
   ]
  },
  {
   "cell_type": "code",
   "execution_count": 80,
   "metadata": {},
   "outputs": [
    {
     "name": "stdout",
     "output_type": "stream",
     "text": [
      "['Ushuaia', 'Rio Gallegos', 'La plata']\n"
     ]
    }
   ],
   "source": [
    "Lista=[\"Ushuaia\",\"Rio Gallegos\",\"La plata\"]\n",
    "print(Lista)"
   ]
  },
  {
   "cell_type": "markdown",
   "metadata": {},
   "source": [
    "### Información de empleados"
   ]
  },
  {
   "cell_type": "code",
   "execution_count": 81,
   "metadata": {},
   "outputs": [
    {
     "name": "stdout",
     "output_type": "stream",
     "text": [
      "{'nombre': 'Alan', 'cargo': 'Jefe de obra', 'Salario': 'USD 3000'}\n"
     ]
    }
   ],
   "source": [
    "Diccionario={\"nombre\": \"Alan\",\"cargo\": \"Jefe de obra\",\"Salario\": \"USD 3000\"}\n",
    "print(Diccionario)"
   ]
  },
  {
   "cell_type": "markdown",
   "metadata": {},
   "source": [
    "### Mostrar cómo acceder a un elemento específico en una lista y en un diccionario."
   ]
  },
  {
   "cell_type": "markdown",
   "metadata": {},
   "source": [
    "##### En diccionario:"
   ]
  },
  {
   "cell_type": "code",
   "execution_count": 82,
   "metadata": {},
   "outputs": [
    {
     "name": "stdout",
     "output_type": "stream",
     "text": [
      "El nombre del empleado es Alan\n"
     ]
    }
   ],
   "source": [
    "print(\"El nombre del empleado es\",Diccionario.get(\"nombre\"))"
   ]
  },
  {
   "cell_type": "markdown",
   "metadata": {},
   "source": [
    "##### En lista: "
   ]
  },
  {
   "cell_type": "code",
   "execution_count": 83,
   "metadata": {},
   "outputs": [
    {
     "name": "stdout",
     "output_type": "stream",
     "text": [
      "La capital de Tierra del Fuego es Ushuaia\n"
     ]
    }
   ],
   "source": [
    "print(\"La capital de Tierra del Fuego es\", Lista[0])"
   ]
  },
  {
   "cell_type": "markdown",
   "metadata": {},
   "source": [
    "## 2. Manipulación de Listas y Métodos:"
   ]
  },
  {
   "cell_type": "markdown",
   "metadata": {},
   "source": [
    "### Crea una lista inicial de números enteros"
   ]
  },
  {
   "cell_type": "code",
   "execution_count": 84,
   "metadata": {},
   "outputs": [
    {
     "name": "stdout",
     "output_type": "stream",
     "text": [
      "[1, 2, 3, 4, 5, 6, 7, 8, 9, 10]\n"
     ]
    }
   ],
   "source": [
    "Lista_numeros=[1,2,3,4,5,6,7,8,9,10]\n",
    "print(Lista_numeros)"
   ]
  },
  {
   "cell_type": "markdown",
   "metadata": {},
   "source": [
    "### Utiliza el método .append() para agregar un número al final de la lista."
   ]
  },
  {
   "cell_type": "code",
   "execution_count": 85,
   "metadata": {},
   "outputs": [
    {
     "name": "stdout",
     "output_type": "stream",
     "text": [
      "[1, 2, 3, 4, 5, 6, 7, 8, 9, 10, 11]\n"
     ]
    }
   ],
   "source": [
    "Lista_numeros.append(11)\n",
    "print(Lista_numeros)"
   ]
  },
  {
   "cell_type": "markdown",
   "metadata": {},
   "source": [
    "### Utiliza el método .extend() para agregar múltiples elementos a la lista."
   ]
  },
  {
   "cell_type": "code",
   "execution_count": 86,
   "metadata": {},
   "outputs": [
    {
     "name": "stdout",
     "output_type": "stream",
     "text": [
      "[1, 2, 3, 4, 5, 6, 7, 8, 9, 10, 11, 13, 14, 15]\n"
     ]
    }
   ],
   "source": [
    "numeros_adicionales=[13,14,15]\n",
    "Lista_numeros.extend(numeros_adicionales)\n",
    "print(Lista_numeros)"
   ]
  },
  {
   "cell_type": "markdown",
   "metadata": {},
   "source": [
    "### Utiliza el método .insert() para insertar un número en una posición específica de la lista."
   ]
  },
  {
   "cell_type": "code",
   "execution_count": 87,
   "metadata": {},
   "outputs": [
    {
     "name": "stdout",
     "output_type": "stream",
     "text": [
      "[1, 2, 3, 4, 5, 6, 7, 8, 9, 10, 11, 12, 13, 14, 15]\n"
     ]
    }
   ],
   "source": [
    "Lista_numeros.insert(11,12)\n",
    "print(Lista_numeros)"
   ]
  },
  {
   "cell_type": "markdown",
   "metadata": {},
   "source": [
    "### Muestra cómo utilizar el método .sort() para ordenar la lista de números de forma ascendente."
   ]
  },
  {
   "cell_type": "markdown",
   "metadata": {},
   "source": [
    "##### PD: Profe usare sort reverse ya que mi lista por toc ya estaba ordenada de forma ascendente jejej"
   ]
  },
  {
   "cell_type": "code",
   "execution_count": 88,
   "metadata": {},
   "outputs": [
    {
     "name": "stdout",
     "output_type": "stream",
     "text": [
      "[15, 14, 13, 12, 11, 10, 9, 8, 7, 6, 5, 4, 3, 2, 1]\n"
     ]
    }
   ],
   "source": [
    "\n",
    "Lista_numeros.sort(reverse=True)\n",
    "print(Lista_numeros)"
   ]
  },
  {
   "cell_type": "markdown",
   "metadata": {},
   "source": [
    "## 3. Manipulación de Diccionarios y Métodos:"
   ]
  },
  {
   "cell_type": "markdown",
   "metadata": {},
   "source": [
    "#### Crea un diccionario con información de productos (nombre del producto, precio, cantidad en stock)."
   ]
  },
  {
   "cell_type": "code",
   "execution_count": 89,
   "metadata": {},
   "outputs": [
    {
     "name": "stdout",
     "output_type": "stream",
     "text": [
      "{'Shampoo': {'nombre': 'Shampoo', 'precio': '2000', 'cantidad': '14 unidades'}, 'Crema de enjuague': {'nombre': 'Crema de enjuague', 'precio': '1500', 'cantidad': '6 unidades'}}\n"
     ]
    }
   ],
   "source": [
    "\n",
    "productos = {\n",
    "    'Producto1': {\n",
    "        'nombre': \"Shampoo\",\n",
    "        'precio': \"2000\",\n",
    "        'cantidad': \"14 unidades\"\n",
    "    },\n",
    "    'Producto2': {\n",
    "        'nombre': \"Crema de enjuague\",\n",
    "        'precio': \"1500\",\n",
    "        'cantidad': \"6 unidades\"\n",
    "    }\n",
    "}\n",
    "print(productos)"
   ]
  },
  {
   "cell_type": "markdown",
   "metadata": {},
   "source": [
    "### Utiliza el método .keys() para obtener una lista de las llaves (nombres de productos) en el diccionario."
   ]
  },
  {
   "cell_type": "code",
   "execution_count": 90,
   "metadata": {},
   "outputs": [
    {
     "name": "stdout",
     "output_type": "stream",
     "text": [
      "dict_keys(['Shampoo', 'Crema de enjuague'])\n"
     ]
    }
   ],
   "source": [
    "nombres_productos =(productos.keys())\n",
    "print(nombres_productos)\n"
   ]
  },
  {
   "cell_type": "markdown",
   "metadata": {},
   "source": [
    "### Utiliza el método .values() para obtener una lista de los valores (precios y cantidades) en el diccionario."
   ]
  },
  {
   "cell_type": "code",
   "execution_count": 91,
   "metadata": {},
   "outputs": [
    {
     "name": "stdout",
     "output_type": "stream",
     "text": [
      "[dict_values(['Shampoo', '2000', '14 unidades']), dict_values(['Crema de enjuague', '1500', '6 unidades'])]\n"
     ]
    }
   ],
   "source": [
    "valores_productos = [producto.values() for producto in productos.values()]\n",
    "print(valores_productos)"
   ]
  }
 ],
 "metadata": {
  "kernelspec": {
   "display_name": "Python 3",
   "language": "python",
   "name": "python3"
  },
  "language_info": {
   "codemirror_mode": {
    "name": "ipython",
    "version": 3
   },
   "file_extension": ".py",
   "mimetype": "text/x-python",
   "name": "python",
   "nbconvert_exporter": "python",
   "pygments_lexer": "ipython3",
   "version": "3.11.9"
  }
 },
 "nbformat": 4,
 "nbformat_minor": 2
}
